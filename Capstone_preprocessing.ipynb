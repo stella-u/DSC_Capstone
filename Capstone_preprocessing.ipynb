{
 "cells": [
  {
   "cell_type": "markdown",
   "id": "124e9fde-2e84-4d3f-8a58-d072188592cc",
   "metadata": {},
   "source": [
    "# Image Segmentation Example\n",
    "##### Taken from TensorFlow example\n",
    "https://www.tensorflow.org/tutorials/images/segmentation"
   ]
  },
  {
   "cell_type": "code",
   "execution_count": 1,
   "id": "5455ec2c-2de2-45d7-bca8-fc0c7ecda10f",
   "metadata": {},
   "outputs": [],
   "source": [
    "import pandas as pd\n",
    "import cv2"
   ]
  },
  {
   "cell_type": "code",
   "execution_count": 2,
   "id": "9ad8f20f-a4d8-4dd4-b660-86585e2314de",
   "metadata": {},
   "outputs": [
    {
     "name": "stderr",
     "output_type": "stream",
     "text": [
      "2023-10-03 14:44:57.781921: I tensorflow/core/platform/cpu_feature_guard.cc:182] This TensorFlow binary is optimized to use available CPU instructions in performance-critical operations.\n",
      "To enable the following instructions: AVX2 AVX512F AVX512_VNNI FMA, in other operations, rebuild TensorFlow with the appropriate compiler flags.\n"
     ]
    }
   ],
   "source": [
    "import tensorflow as tf\n",
    "from tensorflow.keras.preprocessing.image import load_img, img_to_array\n",
    "import warnings\n",
    "warnings.filterwarnings('ignore')"
   ]
  },
  {
   "cell_type": "code",
   "execution_count": 3,
   "id": "8aaf5bbc-b1b1-4b11-aeb2-58956afa57b1",
   "metadata": {},
   "outputs": [],
   "source": [
    "file_name = 'project-1-at-2023-09-28-18-34-9bdf5079.csv'"
   ]
  },
  {
   "cell_type": "code",
   "execution_count": 4,
   "id": "7b8b90e9-9f42-4a58-a948-1365edd0e872",
   "metadata": {},
   "outputs": [
    {
     "data": {
      "text/html": [
       "<div>\n",
       "<style scoped>\n",
       "    .dataframe tbody tr th:only-of-type {\n",
       "        vertical-align: middle;\n",
       "    }\n",
       "\n",
       "    .dataframe tbody tr th {\n",
       "        vertical-align: top;\n",
       "    }\n",
       "\n",
       "    .dataframe thead th {\n",
       "        text-align: right;\n",
       "    }\n",
       "</style>\n",
       "<table border=\"1\" class=\"dataframe\">\n",
       "  <thead>\n",
       "    <tr style=\"text-align: right;\">\n",
       "      <th></th>\n",
       "      <th>annotation_id</th>\n",
       "      <th>annotator</th>\n",
       "      <th>created_at</th>\n",
       "      <th>id</th>\n",
       "      <th>image</th>\n",
       "      <th>label</th>\n",
       "      <th>lead_time</th>\n",
       "      <th>updated_at</th>\n",
       "    </tr>\n",
       "  </thead>\n",
       "  <tbody>\n",
       "    <tr>\n",
       "      <th>0</th>\n",
       "      <td>5</td>\n",
       "      <td>1</td>\n",
       "      <td>2023-09-14T02:27:39.290593Z</td>\n",
       "      <td>1</td>\n",
       "      <td>/data/upload/1/1396640e-B1Afghanistan_85.jpg</td>\n",
       "      <td>[{\"x\":1.9917830250057826,\"y\":1.285367155491171...</td>\n",
       "      <td>170.006</td>\n",
       "      <td>2023-09-14T02:27:39.290616Z</td>\n",
       "    </tr>\n",
       "    <tr>\n",
       "      <th>1</th>\n",
       "      <td>8</td>\n",
       "      <td>1</td>\n",
       "      <td>2023-09-25T20:04:29.798594Z</td>\n",
       "      <td>2</td>\n",
       "      <td>/data/upload/1/7674dfd6-B1Bahamas_206.jpg</td>\n",
       "      <td>[{\"x\":13.838268792710707,\"y\":20.72892938496583...</td>\n",
       "      <td>44.938</td>\n",
       "      <td>2023-09-25T20:04:29.798635Z</td>\n",
       "    </tr>\n",
       "    <tr>\n",
       "      <th>2</th>\n",
       "      <td>7</td>\n",
       "      <td>1</td>\n",
       "      <td>2023-09-14T02:37:09.432244Z</td>\n",
       "      <td>3</td>\n",
       "      <td>/data/upload/1/a2b61e20-B1Brazil_438.jpg</td>\n",
       "      <td>[{\"x\":59.24854201447221,\"y\":6.165703275529865,...</td>\n",
       "      <td>113.256</td>\n",
       "      <td>2023-09-14T02:38:05.846943Z</td>\n",
       "    </tr>\n",
       "    <tr>\n",
       "      <th>3</th>\n",
       "      <td>9</td>\n",
       "      <td>1</td>\n",
       "      <td>2023-09-25T20:07:05.459738Z</td>\n",
       "      <td>4</td>\n",
       "      <td>/data/upload/1/c4b7610f-B1China_117.jpg</td>\n",
       "      <td>[{\"x\":0,\"y\":1.1389521640091116,\"width\":21.1845...</td>\n",
       "      <td>152.334</td>\n",
       "      <td>2023-09-25T20:07:05.459793Z</td>\n",
       "    </tr>\n",
       "    <tr>\n",
       "      <th>4</th>\n",
       "      <td>10</td>\n",
       "      <td>1</td>\n",
       "      <td>2023-09-25T20:14:59.542319Z</td>\n",
       "      <td>5</td>\n",
       "      <td>/data/upload/1/bbe6bd0b-B1China_116.jpg</td>\n",
       "      <td>[{\"x\":16.073003159673757,\"y\":66.20184100725108...</td>\n",
       "      <td>472.354</td>\n",
       "      <td>2023-09-25T20:14:59.542348Z</td>\n",
       "    </tr>\n",
       "    <tr>\n",
       "      <th>5</th>\n",
       "      <td>11</td>\n",
       "      <td>1</td>\n",
       "      <td>2023-09-25T20:17:39.626375Z</td>\n",
       "      <td>6</td>\n",
       "      <td>/data/upload/1/dc5fb95e-B1Thailand_197.jpg</td>\n",
       "      <td>[{\"x\":37.55027234009706,\"y\":16.377649325626198...</td>\n",
       "      <td>156.731</td>\n",
       "      <td>2023-09-25T20:17:39.626398Z</td>\n",
       "    </tr>\n",
       "  </tbody>\n",
       "</table>\n",
       "</div>"
      ],
      "text/plain": [
       "   annotation_id  annotator                   created_at  id  \\\n",
       "0              5          1  2023-09-14T02:27:39.290593Z   1   \n",
       "1              8          1  2023-09-25T20:04:29.798594Z   2   \n",
       "2              7          1  2023-09-14T02:37:09.432244Z   3   \n",
       "3              9          1  2023-09-25T20:07:05.459738Z   4   \n",
       "4             10          1  2023-09-25T20:14:59.542319Z   5   \n",
       "5             11          1  2023-09-25T20:17:39.626375Z   6   \n",
       "\n",
       "                                          image  \\\n",
       "0  /data/upload/1/1396640e-B1Afghanistan_85.jpg   \n",
       "1     /data/upload/1/7674dfd6-B1Bahamas_206.jpg   \n",
       "2      /data/upload/1/a2b61e20-B1Brazil_438.jpg   \n",
       "3       /data/upload/1/c4b7610f-B1China_117.jpg   \n",
       "4       /data/upload/1/bbe6bd0b-B1China_116.jpg   \n",
       "5    /data/upload/1/dc5fb95e-B1Thailand_197.jpg   \n",
       "\n",
       "                                               label  lead_time  \\\n",
       "0  [{\"x\":1.9917830250057826,\"y\":1.285367155491171...    170.006   \n",
       "1  [{\"x\":13.838268792710707,\"y\":20.72892938496583...     44.938   \n",
       "2  [{\"x\":59.24854201447221,\"y\":6.165703275529865,...    113.256   \n",
       "3  [{\"x\":0,\"y\":1.1389521640091116,\"width\":21.1845...    152.334   \n",
       "4  [{\"x\":16.073003159673757,\"y\":66.20184100725108...    472.354   \n",
       "5  [{\"x\":37.55027234009706,\"y\":16.377649325626198...    156.731   \n",
       "\n",
       "                    updated_at  \n",
       "0  2023-09-14T02:27:39.290616Z  \n",
       "1  2023-09-25T20:04:29.798635Z  \n",
       "2  2023-09-14T02:38:05.846943Z  \n",
       "3  2023-09-25T20:07:05.459793Z  \n",
       "4  2023-09-25T20:14:59.542348Z  \n",
       "5  2023-09-25T20:17:39.626398Z  "
      ]
     },
     "execution_count": 4,
     "metadata": {},
     "output_type": "execute_result"
    }
   ],
   "source": [
    "base_df = pd.read_csv(file_name)\n",
    "base_df"
   ]
  },
  {
   "cell_type": "code",
   "execution_count": 5,
   "id": "3d8a4b01-22d3-45c5-bd84-989013b62497",
   "metadata": {},
   "outputs": [],
   "source": [
    "for i in range(len(base_df)):\n",
    "    base_df.image[i] = base_df.image[i].split(\"/\")\n",
    "    base_df.image[i] = base_df.image[i][4]\n",
    "    base_df.image[i] = base_df.image[i].split(\"-\")\n",
    "    base_df.image[i] = base_df.image[i][1]\n",
    "    base_df.image[i] = 'ARTS-AND-ENTERTAINMENT/'+base_df.image[i]"
   ]
  },
  {
   "cell_type": "code",
   "execution_count": 6,
   "id": "f2cfd280-390c-4540-ae00-5b7d44dd9940",
   "metadata": {},
   "outputs": [
    {
     "data": {
      "text/plain": [
       "0    ARTS-AND-ENTERTAINMENT/B1Afghanistan_85.jpg\n",
       "1       ARTS-AND-ENTERTAINMENT/B1Bahamas_206.jpg\n",
       "2        ARTS-AND-ENTERTAINMENT/B1Brazil_438.jpg\n",
       "3         ARTS-AND-ENTERTAINMENT/B1China_117.jpg\n",
       "4         ARTS-AND-ENTERTAINMENT/B1China_116.jpg\n",
       "5      ARTS-AND-ENTERTAINMENT/B1Thailand_197.jpg\n",
       "Name: image, dtype: object"
      ]
     },
     "execution_count": 6,
     "metadata": {},
     "output_type": "execute_result"
    }
   ],
   "source": [
    "base_df.image"
   ]
  },
  {
   "cell_type": "code",
   "execution_count": 7,
   "id": "ad1c14e1-3847-4d03-864f-4111b0d0f607",
   "metadata": {},
   "outputs": [],
   "source": [
    "training_df = pd.DataFrame(columns = ['FileName', 'x_min', 'x_max', 'y_min', 'y_max', 'class_name'])"
   ]
  },
  {
   "cell_type": "code",
   "execution_count": 8,
   "id": "83077d8e-d0a2-42f2-ada1-17f2d2359d1b",
   "metadata": {},
   "outputs": [
    {
     "data": {
      "text/plain": [
       "'[{\"x\":1.9917830250057826,\"y\":1.2853671554911719,\"width\":21.909613275063606,\"height\":5.438091811693419,\"rotation\":0,\"rectanglelabels\":[\"Graphic\"],\"original_width\":996,\"original_height\":1672},{\"x\":3.1699427693159454,\"y\":8.804672252407542,\"width\":2.4364806671287904,\"height\":1.374539637823726,\"rotation\":0,\"rectanglelabels\":[\"Button\"],\"original_width\":996,\"original_height\":1672},{\"x\":1.659819187504819,\"y\":11.469430002844303,\"width\":22.407559031315056,\"height\":24.619724747484753,\"rotation\":0,\"rectanglelabels\":[\"Menu\"],\"original_width\":996,\"original_height\":1672},{\"x\":25.73487313372787,\"y\":-1.2846e-320,\"width\":74.26512686627214,\"height\":58.71774107762258,\"rotation\":0,\"rectanglelabels\":[\"Picture\"],\"original_width\":996,\"original_height\":1672},{\"x\":25.486381794215262,\"y\":58.79335574857135,\"width\":74.4105564931903,\"height\":20.628122302635795,\"rotation\":0,\"rectanglelabels\":[\"Text\"],\"original_width\":996,\"original_height\":1672},{\"x\":62.69166004081011,\"y\":80.46516281056655,\"width\":15.871503739544703,\"height\":9.393161549074659,\"rotation\":0,\"rectanglelabels\":[\"Contact Info\"],\"original_width\":996,\"original_height\":1672},{\"x\":64.47941921150812,\"y\":90.36126428120889,\"width\":9.033720651719616,\"height\":1.596223749609273,\"rotation\":0,\"rectanglelabels\":[\"Button\"],\"original_width\":996,\"original_height\":1672},{\"x\":27.8171490681137,\"y\":80.61800787188392,\"width\":32.53683819097398,\"height\":12.836764419930276,\"rotation\":0,\"rectanglelabels\":[\"Contact Info\"],\"original_width\":996,\"original_height\":1672},{\"x\":6.3442747135899635,\"y\":8.804672252407542,\"width\":2.4364806671287904,\"height\":1.374539637823726,\"rotation\":0,\"rectanglelabels\":[\"Button\"],\"original_width\":996,\"original_height\":1672},{\"x\":42.975954421492816,\"y\":96.15064503459743,\"width\":38.65844839417683,\"height\":2.8363668166124114,\"rotation\":0,\"rectanglelabels\":[\"Website Info\"],\"original_width\":996,\"original_height\":1672}]'"
      ]
     },
     "execution_count": 8,
     "metadata": {},
     "output_type": "execute_result"
    }
   ],
   "source": [
    "base_df.label[0]"
   ]
  },
  {
   "cell_type": "code",
   "execution_count": 9,
   "id": "0380b4c8-79d1-430c-89f9-d913096f522f",
   "metadata": {
    "scrolled": true
   },
   "outputs": [],
   "source": [
    "boxes = base_df.label\n",
    "for i in range(0, len(boxes)):\n",
    "     boxes.iloc[i] = boxes.iloc[i].split(\",\")\n"
   ]
  },
  {
   "cell_type": "code",
   "execution_count": 10,
   "id": "1762f123-dbe4-4906-b5f3-3b3512757e7f",
   "metadata": {},
   "outputs": [],
   "source": [
    "for i in range(0, len(boxes)):\n",
    "    for j in range(0, len(boxes[i])):\n",
    "        boxes[i][j] = boxes[i][j].replace('\"', '')\n",
    "        boxes[i][j] = boxes[i][j].replace('[', '')\n",
    "        boxes[i][j] = boxes[i][j].replace(']', '')\n",
    "        boxes[i][j] = boxes[i][j].replace('{', '')\n",
    "        boxes[i][j] = boxes[i][j].replace('}', '')\n",
    "        boxes[i][j] = boxes[i][j].split(\":\")"
   ]
  },
  {
   "cell_type": "code",
   "execution_count": 11,
   "id": "157b55a9-000c-4ac1-a633-7a63cf93b523",
   "metadata": {},
   "outputs": [],
   "source": [
    "temp_df = pd.DataFrame(columns = ['image', 'x', 'y', 'width', 'height', 'rotation', 'rectanglelabels',\n",
    "                       'original_width', 'original_height'])\n",
    "for i in range(len(boxes)):\n",
    "    for j in range(0, int(len(boxes[i])/8), 8):\n",
    "        temp_df = temp_df.append({'image' : base_df.image[i], 'x' : boxes[i][j*8][1], 'y' : boxes[i][j*8+1][1], 'width' : boxes[i][j*8+2][1],\n",
    "                        'height' : boxes[i][j*8+3][1], 'rotation' : boxes[i][j*8+4][1], \n",
    "                        'rectanglelabels' : boxes[i][j*8+5][1], 'original_width' : boxes[i][j*8+6][1],\n",
    "                        'original_height' : boxes[i][j*8+7][1]}, ignore_index = True)\n"
   ]
  },
  {
   "cell_type": "code",
   "execution_count": 12,
   "id": "8d59bca8-9a8d-4ab9-8125-7ea0e417a645",
   "metadata": {},
   "outputs": [],
   "source": [
    "def normalize(xmin, ymin, width, height, og_w, og_h):\n",
    "    xmax = xmin + width\n",
    "    ymax = ymin + height\n",
    "    return xmin/og_w, xmax/og_w, ymin/og_h, ymax/og_h"
   ]
  },
  {
   "cell_type": "code",
   "execution_count": 13,
   "id": "58d47e89-cffb-4e38-838f-835f84d7c983",
   "metadata": {},
   "outputs": [],
   "source": [
    "for i in range(len(temp_df)):\n",
    "    x_max = str(float(temp_df.x[i]) + float(temp_df.width[i]))\n",
    "    y_max = str(float(temp_df.y[i]) + float(temp_df.height[i]))\n",
    "    training_df = training_df.append({'FileName': temp_df.image[i], 'x_min': temp_df.x[i], 'x_max': x_max , 'y_min': temp_df.y[i], 'y_max': y_max, 'class_name': temp_df.rectanglelabels[i]}, ignore_index = True)"
   ]
  },
  {
   "cell_type": "code",
   "execution_count": 14,
   "id": "364d1ea6-5735-4fad-bd76-675c167c5f25",
   "metadata": {},
   "outputs": [],
   "source": [
    "training_df.to_csv('train.csv')\n",
    "train_df = pd.read_csv('train.csv')\n",
    "# for training\n",
    "with open(\"train.txt\", \"w+\") as f:\n",
    "  for idx, row in train_df.iterrows():\n",
    "      x1 = row['x_min']\n",
    "      x2 = row['x_max'] \n",
    "      y1 = row['y_min']\n",
    "      y2 = row['y_max'] \n",
    "      \n",
    "      fileName = row['FileName']\n",
    "      className = row['class_name']\n",
    "      f.write(fileName + ',' + str(x1) + ',' + str(y1) + ',' + str(x2) + ',' + str(y2) + ',' + className + '\\n')"
   ]
  },
  {
   "cell_type": "code",
   "execution_count": 15,
   "id": "e046881c-a6b3-4009-917b-3089a76b53b6",
   "metadata": {},
   "outputs": [],
   "source": [
    "f.close()"
   ]
  }
 ],
 "metadata": {
  "kernelspec": {
   "display_name": "Python 3 (ipykernel)",
   "language": "python",
   "name": "python3"
  },
  "language_info": {
   "codemirror_mode": {
    "name": "ipython",
    "version": 3
   },
   "file_extension": ".py",
   "mimetype": "text/x-python",
   "name": "python",
   "nbconvert_exporter": "python",
   "pygments_lexer": "ipython3",
   "version": "3.11.5"
  }
 },
 "nbformat": 4,
 "nbformat_minor": 5
}
